{
 "cells": [
  {
   "attachments": {},
   "cell_type": "markdown",
   "metadata": {},
   "source": [
    "### NAMA : BALQIS DWIAN FITRI ZAMZAMI <br> NIM : 121450018 <br> KELAS : PEMROGRAMAN BERBASIS FUNGSI RA <br> TUGAS 1"
   ]
  },
  {
   "attachments": {},
   "cell_type": "markdown",
   "metadata": {},
   "source": [
    "1. Jelaskan menggunakan tabel mengenai kelebihan dan kekurangan paradigma procedural dibandingkan dengan object oriented (minimal 3) !\\\n",
    "**Jawab:**\n",
    "\n",
    "| Paradigma | Kelebihan | Kekurangan |\n",
    "|-------------|---------|-----------|\n",
    "| **Procedural** | 1. Penggunaan memori yang lebih hemat. <br> 2. Kode pemrograman lebih sederhana. <br> 3. Lebih bersahabat untuk dikompilasi oleh compiler atau interpreter program. <br> 4. Alur program lebih mudah untuk ditelusuri. | 1. Kode prosedural sering kali tidak dapat digunakan ulang karena paradigma ini tidak membuat fungsi atau subprogram. <br> 2. Sulit untuk dihubungkan dengan objek dunia nyata. <br> 3. Operasi program lebih diutamakan dibandingkan dengan pengolahan data. <br> 4. Kurang cocok untuk digunakan dalam pengembangan program yang sensitif terhadap data. | \n",
    "\n",
    "<br>\n",
    "\n",
    "| Paradigma | Kelebihan | Kekurangan |\n",
    "|-------------|---------|-----------|\n",
    "| **ObjectOriented** | 1. Maintenance program lebih mudah . <br> 2. Update program lebih mudah. <br> 3. Proses development lebih cepat. <br> 4. Cost lebih rendah. <br> 5. Script program lebih rapih. <br> 6. Script program dapat digunakan berulang | 1. Kompleks untuk dipelajari. <br> 2. Ukuran program yang dihasilkan besar. <br> 3. Runtime program lambat. <br> 4. Tidak semua masalah dapat diatasi. <br> 5. Tidak efisien. <br> 6. Berpotensi besar melakukan generalisasi yang berlebihan |"
   ]
  },
  {
   "attachments": {},
   "cell_type": "markdown",
   "metadata": {},
   "source": [
    "2. Jelaskan menggunakan tabel mengenai kelebihan dan kekurangan paradigma object oriented dibandingkan dengan functional (minimal 3) !\\\n",
    "**Jawab:**\n",
    "\n",
    "| Paradigma | Kelebihan | Kekurangan |\n",
    "|-------------|---------|-----------|\n",
    "| **ObjectOriented** | 1. Maintenance program lebih mudah . <br> 2. Update program lebih mudah. <br> 3. Proses development lebih cepat. <br> 4. Cost lebih rendah. <br> 5. Script program lebih rapih. <br> 6. Script program dapat digunakan berulang | 1. Kompleks untuk dipelajari. <br> 2. Ukuran program yang dihasilkan besar. <br> 3. Runtime program lambat. <br> 4. Tidak semua masalah dapat diatasi. <br> 5. Tidak efisien. <br> 6. Berpotensi besar melakukan generalisasi yang berlebihan |\n",
    "\n",
    "<br>\n",
    "\n",
    "| Paradigma | Kelebihan | Kekurangan |\n",
    "|-------------|---------|-----------|\n",
    "| **Functional** | 1. Pure functions lebih mudah dipahami karena tidak mengubah status apa pun dan hanya bergantung pada input yang diberikan kepada mereka. <br> 2. Membantu proses debug menjadi lebih cepat. <br> 3. Mengubah masalah kompleks menjadi potongan-potongan kecil yang jauh lebih sederhana untuk diselesaikan. <br> 4. Pengujian dan debugging lebih mudah. | 1. Relatif sulit untuk dipelajari oleh pemula terkadang menulis pure functions dapat mengurangi keterbacaan kode. <br> 2. Pemeliharaan sulit ketika digunakan untuk proyek berskala besar. <br> 3. Menjaga reusability dari suatu fungsi adalah hal yang tidak mudah untuk dilakukan. <br> 4. Relatif sulit untuk dipelajari oleh pemula. | "
   ]
  },
  {
   "attachments": {},
   "cell_type": "markdown",
   "metadata": {},
   "source": [
    "3. Jelaskan menggunakan tabel mengenai kelebihan dan kekurangan paradigma procedural dibandingkan dengan functional (minimal 3) ! \\\n",
    "**Jawab:**\n",
    "\n",
    "| Paradigma | Kelebihan | Kekurangan |\n",
    "|-------------|---------|-----------|\n",
    "| **Procedural** | 1. Penggunaan memori yang lebih hemat. <br> 2. Kode pemrograman lebih sederhana. <br> 3. Lebih bersahabat untuk dikompilasi oleh compiler atau interpreter program. <br> 4. Alur program lebih mudah untuk ditelusuri. | 1. Kode prosedural sering kali tidak dapat digunakan ulang karena paradigma ini tidak membuat fungsi atau subprogram. <br> 2. Sulit untuk dihubungkan dengan objek dunia nyata. <br> 3. Operasi program lebih diutamakan dibandingkan dengan pengolahan data. <br> 4. Kurang cocok untuk digunakan dalam pengembangan program yang sensitif terhadap data. | \n",
    "\n",
    "<br>\n",
    "\n",
    "| Paradigma | Kelebihan | Kekurangan |\n",
    "|-------------|---------|-----------|\n",
    "| **Functional** | 1. Pure functions lebih mudah dipahami karena tidak mengubah status apa pun dan hanya bergantung pada input yang diberikan kepada mereka. <br> 2. Membantu proses debug menjadi lebih cepat. <br> 3. Mengubah masalah kompleks menjadi potongan-potongan kecil yang jauh lebih sederhana untuk diselesaikan. <br> 4. Pengujian dan debugging lebih mudah. | 1. Relatif sulit untuk dipelajari oleh pemula terkadang menulis pure functions dapat mengurangi keterbacaan kode. <br> 2. Pemeliharaan sulit ketika digunakan untuk proyek berskala besar. <br> 3. Menjaga reusability dari suatu fungsi adalah hal yang tidak mudah untuk dilakukan. <br> 4. Relatif sulit untuk dipelajari oleh pemula. | "
   ]
  },
  {
   "attachments": {},
   "cell_type": "markdown",
   "metadata": {},
   "source": [
    "4. Apa yang dimaksud dengan pure functional programming language? \\\n",
    "**Jawab:**\n",
    "Pure functional programming language adalah bahasa pemrograman yang fungsi-fungsinya murni dan tidak mengizinkan adanya efek samping pada bahasa tersebut. Ini berarti bahwa semua data dan operasi pada data hanya melalui fungsi, dan tidak ada variabel mutable atau perintah yang memodifikasi nilai."
   ]
  },
  {
   "attachments": {},
   "cell_type": "markdown",
   "metadata": {},
   "source": [
    "5. Dari bahasa pemrograman FP di slide sebelumnya ( slide 14 ) , manakah yang termasuk pure functional programming language ? \\\n",
    "**Jawab:**\n",
    "Tidak ada skala untuk menilai tingkat kemurnian bahasa fungsional. Jika bahasa tersebut mengizinkan adanya efek samping pada bahasa tersebut, maka bahasa tersebut tidak murni, begitu sebaliknya. Dengan definisi ini, yang termasuk pure functional programming language yaitu **Haskell**, Mercury, Clean, dan lain-lain . Sedangkan Scala, Clojure, F#, OCaml, dan lain-lain adalah bahasa yang tidak murni."
   ]
  },
  {
   "attachments": {},
   "cell_type": "markdown",
   "metadata": {},
   "source": [
    "6. Membuat program Simple Password encryption, dengan ketentuan :  <br>\n",
    "    -> Input password bertipe string dengan batasan panjang password 100 karakter <br>\n",
    "    -> Setiap karakter dari string tersebut diubah menjadi ASCII value <br>\n",
    "    -> Kemudian setiap ASCII value tersebut dikembangkan menjadi 3 value dengan dilakukan operasi berikut: <br>\n",
    "        1. Value pertama dibagi dengan integer 26 kemudian dibulatkan dan dijumlahkan dengan 80 kemudian diubah kembali menjadi karakter <br>\n",
    "        2. Value kedua dihitung sisa bagi dengan 26 kemudian dijumlahkan dengan 80 kemudian diubah kembali menjadi karakter <br>\n",
    "        3. Value ketiga adalah karakter ‘+’ jika value pertama lebih besar dari value kedua, atau value ketiga adalah karakter ‘-’ jika value pertama tidak lebih besar dari value kedua <br>\n",
    "        4. Deretkan value pertama, kedua dan ketiga untuk setiap karakter dalam password tersebut sehingga didapatkan password dalam bentuk baru\n",
    "\n",
    "    **Jawab:**"
   ]
  },
  {
   "cell_type": "code",
   "execution_count": 1,
   "metadata": {},
   "outputs": [],
   "source": [
    "from functools import reduce"
   ]
  },
  {
   "attachments": {},
   "cell_type": "markdown",
   "metadata": {},
   "source": [
    "Cara 1 :"
   ]
  },
  {
   "cell_type": "code",
   "execution_count": 18,
   "metadata": {},
   "outputs": [
    {
     "name": "stdout",
     "output_type": "stream",
     "text": [
      "T[-Sc-TQ+TV-T[-Sf-Sc-T\\-Sc-Qh-Qf-Qh-Qg-\n"
     ]
    }
   ],
   "source": [
    "def enc(char: str) -> str:\n",
    "    ascii = ord(char)\n",
    "    value_1 = (ascii // 26) + 80\n",
    "    value_2 = (ascii % 26) + 80\n",
    "    value_3 = '+' if value_1 > value_2 else '-'\n",
    "    return chr(value_1) + chr(value_2) + value_3\n",
    "\n",
    "def pw_enc(password: str) -> str:\n",
    "    return reduce(lambda result, char: result + enc(char), password, '') \n",
    "password = \"sainsdata2021\"\n",
    "encrypted_password = pw_enc(password)\n",
    "print(encrypted_password)"
   ]
  },
  {
   "attachments": {},
   "cell_type": "markdown",
   "metadata": {},
   "source": [
    "Cara 2 :"
   ]
  },
  {
   "cell_type": "code",
   "execution_count": 19,
   "metadata": {},
   "outputs": [],
   "source": [
    "def encrypt(pw):\n",
    "  splitpass = list(pw) \n",
    "  asciipass = list()\n",
    "  for char in splitpass:\n",
    "    asciichar = ord(char) \n",
    "    asciipass.append(asciichar) \n",
    "\n",
    "  encryptedpass = \"\"\n",
    "  for num in asciipass: \n",
    "    value_1 = num//26 + 80 \n",
    "    value_2 = num%26 + 80\n",
    "    if value_1 > value_2:\n",
    "      value_3 = '+'\n",
    "    else:\n",
    "      value_3 = '-'\n",
    "\n",
    "    encryptedpass = encryptedpass + chr(value_1) + chr(value_2) + value_3\n",
    "\n",
    "  return encryptedpass #akan mengembalikan password yang telah dienkripsi"
   ]
  },
  {
   "cell_type": "code",
   "execution_count": 20,
   "metadata": {},
   "outputs": [
    {
     "name": "stdout",
     "output_type": "stream",
     "text": [
      "Hasil enkripsi password : \n",
      "T[-Sc-TQ+TV-T[-Sf-Sc-T\\-Sc-Qh-Qf-Qh-Qg-\n"
     ]
    }
   ],
   "source": [
    "print(\"Hasil enkripsi password : \")\n",
    "password = 'sainsdata2021'\n",
    "hasilencrypt = encrypt(password)\n",
    "print(hasilencrypt)"
   ]
  }
 ],
 "metadata": {
  "kernelspec": {
   "display_name": "Python 3.9.6 64-bit",
   "language": "python",
   "name": "python3"
  },
  "language_info": {
   "codemirror_mode": {
    "name": "ipython",
    "version": 3
   },
   "file_extension": ".py",
   "mimetype": "text/x-python",
   "name": "python",
   "nbconvert_exporter": "python",
   "pygments_lexer": "ipython3",
   "version": "3.9.6"
  },
  "orig_nbformat": 4,
  "vscode": {
   "interpreter": {
    "hash": "8f8cf99212f81ad0c4765861267244807ee1c18364846cdce387b28994a977ba"
   }
  }
 },
 "nbformat": 4,
 "nbformat_minor": 2
}
